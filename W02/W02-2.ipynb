{
 "cells": [
  {
   "cell_type": "markdown",
   "metadata": {},
   "source": [
    "# W02-2 : 空污警報"
   ]
  },
  {
   "cell_type": "markdown",
   "metadata": {},
   "source": [
    "### 空氣品質應用"
   ]
  },
  {
   "cell_type": "code",
   "execution_count": 2,
   "metadata": {},
   "outputs": [],
   "source": [
    "import requests"
   ]
  },
  {
   "cell_type": "code",
   "execution_count": 4,
   "metadata": {},
   "outputs": [],
   "source": [
    "url = 'http://opendata.epa.gov.tw/ws/Data/AQI/?$format=json'"
   ]
  },
  {
   "cell_type": "code",
   "execution_count": 5,
   "metadata": {},
   "outputs": [],
   "source": [
    "r = requests.get(url)"
   ]
  },
  {
   "cell_type": "code",
   "execution_count": 6,
   "metadata": {},
   "outputs": [
    {
     "data": {
      "text/plain": [
       "<Response [200]>"
      ]
     },
     "execution_count": 6,
     "metadata": {},
     "output_type": "execute_result"
    }
   ],
   "source": [
    "r"
   ]
  },
  {
   "cell_type": "code",
   "execution_count": 7,
   "metadata": {},
   "outputs": [],
   "source": [
    "data = r.json()"
   ]
  },
  {
   "cell_type": "code",
   "execution_count": 8,
   "metadata": {},
   "outputs": [
    {
     "data": {
      "text/plain": [
       "{'SiteName': '臺南(北門)',\n",
       " 'County': '臺南市',\n",
       " 'AQI': '24',\n",
       " 'Pollutant': '',\n",
       " 'Status': '良好',\n",
       " 'SO2': '0.2',\n",
       " 'CO': '0.09',\n",
       " 'CO_8hr': '0.1',\n",
       " 'O3': '28',\n",
       " 'O3_8hr': '26',\n",
       " 'PM10': '12',\n",
       " 'PM2.5': 'ND',\n",
       " 'NO2': '1.5',\n",
       " 'NOx': '1.4',\n",
       " 'NO': '-0.1',\n",
       " 'WindSpeed': '1.3',\n",
       " 'WindDirec': '241',\n",
       " 'PublishTime': '2020-07-03 20:00',\n",
       " 'PM2.5_AVG': '3',\n",
       " 'PM10_AVG': '14',\n",
       " 'SO2_AVG': '1',\n",
       " 'Longitude': '120.124444',\n",
       " 'Latitude': '23.264722',\n",
       " 'SiteId': '310'}"
      ]
     },
     "execution_count": 8,
     "metadata": {},
     "output_type": "execute_result"
    }
   ],
   "source": [
    "data[0]"
   ]
  },
  {
   "cell_type": "code",
   "execution_count": 9,
   "metadata": {},
   "outputs": [],
   "source": [
    "# TODO: 取出你所在地的空污資訊\n",
    "\n"
   ]
  },
  {
   "cell_type": "markdown",
   "metadata": {},
   "source": [
    "----\n",
    "## Email警報 (線上課程，只帶過介紹此功能，以Line警報功能為主)"
   ]
  },
  {
   "cell_type": "code",
   "execution_count": null,
   "metadata": {},
   "outputs": [],
   "source": [
    "# 以google為例，你需要把安全性放寬"
   ]
  },
  {
   "cell_type": "code",
   "execution_count": null,
   "metadata": {},
   "outputs": [],
   "source": [
    "import smtplib\n",
    "smtp=smtplib.SMTP('smtp.gmail.com', 587)\n",
    "smtp.ehlo()\n",
    "smtp.starttls()\n",
    "smtp.login('你的信箱','你的密碼')\n",
    "from_addr='你的信箱'\n",
    "to_addr=\"收件人信箱\"\n",
    "msg=\"Subject:Gmail sent by Python scripts\\nHello World!\"\n",
    "status=smtp.sendmail(from_addr, to_addr, msg)#加密文件，避免私密信息被截取\n",
    "if status=={}:\n",
    "    print(\"郵件傳送成功!\")\n",
    "else:\n",
    "    print(\"郵件傳送失敗!\")\n",
    "smtp.quit()"
   ]
  },
  {
   "cell_type": "code",
   "execution_count": 12,
   "metadata": {},
   "outputs": [
    {
     "name": "stdout",
     "output_type": "stream",
     "text": [
      "郵件傳送成功!\n"
     ]
    },
    {
     "data": {
      "text/plain": [
       "(221, b'2.0.0 closing connection o10sm1345420pjs.27 - gsmtp')"
      ]
     },
     "execution_count": 12,
     "metadata": {},
     "output_type": "execute_result"
    }
   ],
   "source": [
    "import smtplib\n",
    "smtp=smtplib.SMTP('smtp.gmail.com', 587)\n",
    "smtp.ehlo()\n",
    "smtp.starttls()\n",
    "smtp.login('你的信箱','你的密碼')\n",
    "from_addr='你的信箱'\n",
    "to_addr=\"收件人信箱\"\n",
    "msg=\"Subject:Gmail sent by Python scripts\\nHello World!\"\n",
    "status=smtp.sendmail(from_addr, to_addr, msg)#加密文件，避免私密信息被截取\n",
    "if status=={}:\n",
    "    print(\"郵件傳送成功!\")\n",
    "else:\n",
    "    print(\"郵件傳送失敗!\")\n",
    "smtp.quit()"
   ]
  },
  {
   "cell_type": "markdown",
   "metadata": {},
   "source": [
    "### 請試寫程式，讓AQI超過正常值時，發出一封email給自己\n"
   ]
  },
  {
   "cell_type": "code",
   "execution_count": null,
   "metadata": {},
   "outputs": [],
   "source": [
    "# 請在此填入你的程式\n",
    "\n"
   ]
  },
  {
   "cell_type": "markdown",
   "metadata": {},
   "source": [
    "----\n",
    "## Line API\n",
    "\n",
    "- 先以講師申請的line token進行測試\n",
    "- 申請開發者帳號\n",
    "- 申請line token\n",
    "- 以自己的token進行自己的警報"
   ]
  },
  {
   "cell_type": "markdown",
   "metadata": {},
   "source": [
    "- 第一個LINE通知服務練習: 請修改\"Title\"中的文字，以便分辨是自己傳送成功"
   ]
  },
  {
   "cell_type": "code",
   "execution_count": 18,
   "metadata": {},
   "outputs": [],
   "source": [
    "# 課程的token\n",
    "# 由：https://notify-bot.line.me/my/ 取得\n",
    "\n",
    "token = 'your-token' #Python課程"
   ]
  },
  {
   "cell_type": "code",
   "execution_count": 19,
   "metadata": {
    "collapsed": true
   },
   "outputs": [
    {
     "data": {
      "text/plain": [
       "<Response [400]>"
      ]
     },
     "execution_count": 19,
     "metadata": {},
     "output_type": "execute_result"
    }
   ],
   "source": [
    "import requests\n",
    "\n",
    "url = \"https://notify-api.line.me/api/notify\"  # --> 不支援http, 只能用https\n",
    "headers = {\"Authorization\" : \"Bearer \"+ token}\n",
    "\n",
    "title = 'Malo測試'\n",
    "message =  '[%s] 課程demo' %(title)\n",
    "payload = {\"message\" :  message}\n",
    "\n",
    "r = requests.post(url ,headers = headers ,params=payload)\n",
    "r"
   ]
  },
  {
   "cell_type": "markdown",
   "metadata": {},
   "source": [
    "- 申請Line Notify token: 請開啟「line服務說明.ipynb」檔案，依說明進行"
   ]
  },
  {
   "cell_type": "markdown",
   "metadata": {},
   "source": [
    "### 完成一個程式，可以發出line 訊息給自己"
   ]
  },
  {
   "cell_type": "code",
   "execution_count": null,
   "metadata": {},
   "outputs": [],
   "source": [
    "# 請在此填入程式\n",
    "\n",
    "\n"
   ]
  },
  {
   "cell_type": "code",
   "execution_count": null,
   "metadata": {},
   "outputs": [],
   "source": []
  },
  {
   "cell_type": "markdown",
   "metadata": {},
   "source": [
    "### 請試寫程式，讓AQI超過正常值時，發出line訊息給自己 (若沒有超過，就發送目前AQI, 或是把全台AQI超標的都寄出來)\n"
   ]
  },
  {
   "cell_type": "code",
   "execution_count": null,
   "metadata": {},
   "outputs": [],
   "source": [
    "# 請在此填入你的程式\n",
    "\n"
   ]
  }
 ],
 "metadata": {
  "kernelspec": {
   "display_name": "Python 3",
   "language": "python",
   "name": "python3"
  },
  "language_info": {
   "codemirror_mode": {
    "name": "ipython",
    "version": 3
   },
   "file_extension": ".py",
   "mimetype": "text/x-python",
   "name": "python",
   "nbconvert_exporter": "python",
   "pygments_lexer": "ipython3",
   "version": "3.7.0"
  }
 },
 "nbformat": 4,
 "nbformat_minor": 2
}
