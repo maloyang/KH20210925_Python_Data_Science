{
 "cells": [
  {
   "cell_type": "markdown",
   "metadata": {},
   "source": [
    "# W03-1: 資料視覺化\n"
   ]
  },
  {
   "cell_type": "markdown",
   "metadata": {},
   "source": [
    "- 使用預先整理好的股票資料\n",
    "- 把csv讀出來使用"
   ]
  },
  {
   "cell_type": "code",
   "execution_count": 1,
   "metadata": {},
   "outputs": [],
   "source": [
    "import csv\n",
    "\n",
    "fn = 'stock_data.csv'\n",
    "with open(fn, 'r') as csvfile:\n",
    "    rows = csv.reader(csvfile)\n",
    "    data_list2 = list(rows)"
   ]
  },
  {
   "cell_type": "code",
   "execution_count": 2,
   "metadata": {},
   "outputs": [
    {
     "data": {
      "text/plain": [
       "[['date', 'close', 'volume'],\n",
       " ['2020-01-02', '339.0', '31754120.0'],\n",
       " ['2020-01-03', '339.5', '41811268.0']]"
      ]
     },
     "execution_count": 2,
     "metadata": {},
     "output_type": "execute_result"
    }
   ],
   "source": [
    "data_list2[:3]"
   ]
  },
  {
   "cell_type": "code",
   "execution_count": 3,
   "metadata": {},
   "outputs": [
    {
     "data": {
      "text/plain": [
       "['2020-07-08', '341.0', '30538000.0']"
      ]
     },
     "execution_count": 3,
     "metadata": {},
     "output_type": "execute_result"
    }
   ],
   "source": [
    "data_list2[-1]"
   ]
  },
  {
   "cell_type": "code",
   "execution_count": 4,
   "metadata": {},
   "outputs": [],
   "source": [
    "stock_close = []\n",
    "stock_date = []\n",
    "for item in data_list2[1:]:\n",
    "    stock_close.append(float(item[1]))\n",
    "    stock_date.append(item[0])"
   ]
  },
  {
   "cell_type": "code",
   "execution_count": 5,
   "metadata": {},
   "outputs": [
    {
     "name": "stdout",
     "output_type": "stream",
     "text": [
      "[339.0, 339.5, 332.0, 329.5, 329.5, 337.5, 339.5, 341.5, 346.0, 340.0, 334.5, 333.0, 333.0, 316.5, 320.0, 315.0, 325.0, 327.5, 332.5, 328.0, 327.5, 331.5, 335.0, 335.0, 335.0, 331.5, 322.0, 326.5, 325.5, 325.0, 320.0, 322.0, 318.5, 316.0, 311.0, 317.5, 320.5, 323.0, 315.0, 305.5, 307.0, 302.0, 294.0, 290.0, 276.5, 268.0, 260.0, 248.0, 270.0, 255.0, 267.5, 277.0, 280.0, 273.0, 267.5, 274.0, 271.5, 275.5, 283.0, 285.0, 283.0, 279.5, 278.5, 285.0, 287.5, 286.5, 306.5, 304.0, 295.0, 294.0, 295.5, 294.0, 298.0, 296.5, 299.0, 304.5, 295.0, 295.5, 296.0, 297.5, 297.5, 301.0, 295.0, 297.0, 293.0, 298.0, 290.0, 291.5, 294.0, 297.5, 292.0, 292.0, 295.5, 296.5, 294.0, 292.0, 295.5, 296.5, 301.0, 306.0, 311.5, 318.0, 319.0, 322.5, 320.5, 316.0, 309.5, 315.0, 315.0, 314.5, 314.5, 312.0, 315.0, 317.5, 312.0, 313.0, 317.5, 322.0, 329.5, 338.0, 338.5, 341.0]\n"
     ]
    }
   ],
   "source": [
    "print(stock_close)"
   ]
  },
  {
   "cell_type": "markdown",
   "metadata": {},
   "source": [
    "----\n",
    "### 練習題"
   ]
  },
  {
   "cell_type": "markdown",
   "metadata": {},
   "source": [
    "- 找出最高點"
   ]
  },
  {
   "cell_type": "code",
   "execution_count": 29,
   "metadata": {},
   "outputs": [
    {
     "name": "stdout",
     "output_type": "stream",
     "text": [
      "2020-07-17 ==>  367.0\n"
     ]
    }
   ],
   "source": [
    "# 請填入程式\n",
    "close_max = 0\n",
    "date_max = None\n",
    "for i in range(len(stock_close)):\n",
    "    if close_max < stock_close[i]:\n",
    "        close_max = stock_close[i]\n",
    "        date_max = stock_date[i]\n",
    "print(date_max, '==> ', close_max)"
   ]
  },
  {
   "cell_type": "markdown",
   "metadata": {},
   "source": [
    "- 找出最低點"
   ]
  },
  {
   "cell_type": "code",
   "execution_count": 35,
   "metadata": {},
   "outputs": [
    {
     "name": "stdout",
     "output_type": "stream",
     "text": [
      "2020-03-19 -->  248.0\n"
     ]
    }
   ],
   "source": [
    "close_min = stock_close[0]\n",
    "date_min = stock_date[0]\n",
    "for i in range(len(stock_close)):\n",
    "    if close_min > stock_close[i]:\n",
    "        close_min = stock_close[i]\n",
    "        date_min = stock_date[i]\n",
    "print(date_min, '--> ', close_min)"
   ]
  },
  {
   "cell_type": "markdown",
   "metadata": {},
   "source": [
    "- 找出每個月的最高點 or 最低點"
   ]
  },
  {
   "cell_type": "code",
   "execution_count": 36,
   "metadata": {},
   "outputs": [
    {
     "data": {
      "text/plain": [
       "'01'"
      ]
     },
     "execution_count": 36,
     "metadata": {},
     "output_type": "execute_result"
    }
   ],
   "source": [
    "# 取出月份\n",
    "stock_date[0][5:7]"
   ]
  },
  {
   "cell_type": "code",
   "execution_count": 62,
   "metadata": {},
   "outputs": [
    {
     "name": "stdout",
     "output_type": "stream",
     "text": [
      "[1] max: 346.0 @ 2020-01-14\n",
      "[1] min: 316.5 @ 2020-01-30\n",
      "[2] max: 335.0 @ 2020-02-12\n",
      "[2] min: 315.0 @ 2020-02-03\n",
      "[3] max: 323.0 @ 2020-03-05\n",
      "[3] min: 248.0 @ 2020-03-19\n",
      "[4] max: 306.5 @ 2020-04-17\n",
      "[4] min: 271.5 @ 2020-04-01\n",
      "[5] max: 301.0 @ 2020-05-11\n",
      "[5] min: 290.0 @ 2020-05-18\n",
      "[6] max: 322.5 @ 2020-06-10\n",
      "[6] min: 295.5 @ 2020-06-01\n",
      "[7] max: 367.0 @ 2020-07-17\n",
      "[7] min: 317.5 @ 2020-07-01\n"
     ]
    }
   ],
   "source": [
    "# 請填入程式\n",
    "for m in range(1, 8):\n",
    "    #print(m)\n",
    "    close_max = 0\n",
    "    date_max = None\n",
    "    close_min = 10000\n",
    "    date_min = None\n",
    "    for i in range(len(stock_close)):\n",
    "        #if m == int(stock_date[i][5:7]):\n",
    "        str_m = '%02d' %(m)\n",
    "        if str_m == stock_date[i][5:7]:\n",
    "            if close_max < stock_close[i]:\n",
    "                close_max = stock_close[i]\n",
    "                date_max = stock_date[i]\n",
    "            if close_min > stock_close[i]:\n",
    "                close_min = stock_close[i]\n",
    "                date_min = stock_date[i]\n",
    "    print('[%d] max: %s @ %s' %(m, close_max, date_max))\n",
    "    print('[%d] min: %s @ %s' %(m, close_min, date_min))\n"
   ]
  },
  {
   "cell_type": "markdown",
   "metadata": {},
   "source": [
    "- 重新再用基本工具繪趨勢圖"
   ]
  },
  {
   "cell_type": "code",
   "execution_count": 43,
   "metadata": {},
   "outputs": [],
   "source": [
    "%matplotlib inline"
   ]
  },
  {
   "cell_type": "code",
   "execution_count": 44,
   "metadata": {},
   "outputs": [
    {
     "data": {
      "text/plain": [
       "Text(0,0.5,'close')"
      ]
     },
     "execution_count": 44,
     "metadata": {},
     "output_type": "execute_result"
    },
    {
     "data": {
      "image/png": "[encoded data removed]",
      "text/plain": [
       "<Figure size 432x288 with 1 Axes>"
      ]
     },
     "metadata": {
      "needs_background": "light"
     },
     "output_type": "display_data"
    }
   ],
   "source": [
    "import matplotlib.pyplot as plt\n",
    "\n",
    "plt.plot(stock_date, stock_close)\n",
    "plt.xlabel('date')\n",
    "plt.ylabel('close')\n"
   ]
  },
  {
   "cell_type": "code",
   "execution_count": 46,
   "metadata": {},
   "outputs": [
    {
     "data": {
      "text/plain": [
       "Text(0,0.5,'close')"
      ]
     },
     "execution_count": 46,
     "metadata": {},
     "output_type": "execute_result"
    },
    {
     "data": {
      "image/png": "[encoded data removed]",
      "text/plain": [
       "<Figure size 432x288 with 1 Axes>"
      ]
     },
     "metadata": {
      "needs_background": "light"
     },
     "output_type": "display_data"
    }
   ],
   "source": [
    "import matplotlib.pyplot as plt\n",
    "\n",
    "plt.plot(stock_date[0:5], stock_close[0:5])\n",
    "plt.xlabel('date')\n",
    "plt.ylabel('close')\n"
   ]
  },
  {
   "cell_type": "code",
   "execution_count": null,
   "metadata": {},
   "outputs": [],
   "source": [
    "stock_date[0::10]"
   ]
  },
  {
   "cell_type": "code",
   "execution_count": 47,
   "metadata": {},
   "outputs": [
    {
     "data": {
      "image/png": "[encoded data removed]",
      "text/plain": [
       "<Figure size 432x288 with 1 Axes>"
      ]
     },
     "metadata": {
      "needs_background": "light"
     },
     "output_type": "display_data"
    }
   ],
   "source": [
    "import matplotlib.pyplot as plt\n",
    "\n",
    "plt.plot(stock_date, stock_close)\n",
    "plt.xlabel('date')\n",
    "plt.ylabel('close')\n",
    "plt.xticks(stock_date[0::10], rotation=90)\n",
    "plt.grid()"
   ]
  },
  {
   "cell_type": "markdown",
   "metadata": {},
   "source": [
    "- 計算移動平均值，再把趨勢圖畫出來"
   ]
  },
  {
   "cell_type": "code",
   "execution_count": null,
   "metadata": {},
   "outputs": [],
   "source": [
    "# 請填入程式\n",
    "\n"
   ]
  }
 ],
 "metadata": {
  "kernelspec": {
   "display_name": "Python 3",
   "language": "python",
   "name": "python3"
  },
  "language_info": {
   "codemirror_mode": {
    "name": "ipython",
    "version": 3
   },
   "file_extension": ".py",
   "mimetype": "text/x-python",
   "name": "python",
   "nbconvert_exporter": "python",
   "pygments_lexer": "ipython3",
   "version": "3.7.0"
  }
 },
 "nbformat": 4,
 "nbformat_minor": 2
}
