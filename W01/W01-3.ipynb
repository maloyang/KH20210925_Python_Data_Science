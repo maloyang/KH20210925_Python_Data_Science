{
 "cells": [
  {
   "cell_type": "markdown",
   "metadata": {},
   "source": [
    "# W01 - 3 : 公共腳踏車應用"
   ]
  },
  {
   "cell_type": "markdown",
   "metadata": {},
   "source": [
    "## 新竹市公共自行車租賃系統(YouBike): https://data.gov.tw/dataset/67781"
   ]
  },
  {
   "cell_type": "code",
   "execution_count": 1,
   "metadata": {},
   "outputs": [],
   "source": [
    "import requests"
   ]
  },
  {
   "cell_type": "code",
   "execution_count": 5,
   "metadata": {},
   "outputs": [],
   "source": [
    "url = \"https://odws.hccg.gov.tw/001/Upload/25/OpenData/9059/59/8544b041-b6ab-4b49-bab5-e10237d5c88f.csv\""
   ]
  },
  {
   "cell_type": "code",
   "execution_count": 6,
   "metadata": {},
   "outputs": [],
   "source": [
    "r = requests.get(url)"
   ]
  },
  {
   "cell_type": "code",
   "execution_count": 7,
   "metadata": {},
   "outputs": [
    {
     "data": {
      "text/plain": [
       "<Response [200]>"
      ]
     },
     "execution_count": 7,
     "metadata": {},
     "output_type": "execute_result"
    }
   ],
   "source": [
    "r"
   ]
  },
  {
   "cell_type": "markdown",
   "metadata": {},
   "source": [
    "- 對取回來的資料進行編碼"
   ]
  },
  {
   "cell_type": "code",
   "execution_count": 8,
   "metadata": {},
   "outputs": [],
   "source": [
    "decoded_content = r.content.decode('utf-8')"
   ]
  },
  {
   "cell_type": "code",
   "execution_count": 9,
   "metadata": {},
   "outputs": [
    {
     "name": "stdout",
     "output_type": "stream",
     "text": [
      "﻿站點名稱,經度,緯度,圖片URL,站點位置,F6,F7\n",
      "新竹火車站(前站),120.971459,24.801815,http://opendata-manage.hccg.gov.tw/img/24/youbike01.jpg,中華路二段445號(火車站前廣場),,\n",
      "東門圓環,120.970556,24.803866,http://opendata-manage.hccg.gov.tw/img/24/youbike02.jpg,勝利路2號(對面圓環人行道),,\n",
      "新竹市政府,120.96926,24.806138,http://opendata-manage.hccg.gov.tw/img/24/youbike03.jpg,中央路106號(對面人行道),,\n",
      "明志書院立體停車場,120.96576,24.80167,http://opendata-manage.hccg.gov.tw/img/24/youbike04.jpg,西大路317號(停車場前人行道),,\n",
      "辛志平校長故居,120.973662,24.804317,http://opendata-manage.hccg.gov.tw/img/24/youbike05.jpg,東門街32號(汽車停車場),,\n",
      "中正北大路口,120.967098,24.808979,http://opendata-manage.hccg.gov.tw/img/24/youbike06.jpg,中正路146號(機車停車場),,\n",
      "延平停車場,120.956616,24.803791,http://opendata-manage.hccg.gov.tw/img/24/youbike07.jpg,延平路一段159巷22號(對面機車停車格),,\n",
      "建國公園,120.966675,24.803382,http://opendata-manage.hccg.gov.tw/img/24/youbike08.jpg,西門街1號(對面汽車停車格),,\n",
      "新竹公園(公園路),120.978717,24.802579,http://opendata-manage.hccg.gov.tw/img/24/youbike09.jpg,公園路300號(左側人行道),,\n",
      "遠東巨城購物中心,120.974258,24.809326,http://opendata-manage.hccg.gov.tw/img/24/youbike10.jpg,民權路171號(對面人行道),,\n",
      "三民公園,120.979624,24.811226,http://opendata-manage.hccg.gov.tw/img/24/youbike11.jpg,中央路364-1號(網球場前人行道),,\n",
      "新竹轉運站,120.973191,24.800896,http://opendata-manage.hccg.gov.tw/img/24/youbike12.jpg,東南街1巷6號(轉運站對面人行廣場),,\n",
      "新竹馬偕紀念醫院,120.991278,24.800074,http://opendata-manage.hccg.gov.tw/img/24/youbike13.jpg,光復路二段690號(水源街對面公園人行道),,\n",
      "新源建功一路口,120.9932,24.802771,http://opendata-manage.hccg.gov.tw/img/24/youbike14.jpg,新源街138號(對面人行道),,\n",
      "清華大學(北校門),120.996686,24.796842,http://opendata-manage.hccg.gov.tw/img/24/youbike15.jpg,光復路二段101號(面校門右側人行道),,\n",
      "綠光公園,120.985033,24.812458,http://opendata-manage.hccg.gov.tw/img/24/youbike16.jpg,鐵道路一段28巷79號(對面公園綠帶),,\n",
      "新竹教育大學,120.964533,24.794294,http://opendata-manage.hccg.gov.tw/img/24/youbike17.jpg,南大路560號(對面人行道),,\n",
      "竹蓮寺,120.97042,24.798283,http://opendata-manage.hccg.gov.tw/img/24/youbike18.jpg,竹蓮街72號(對面人行道),,\n",
      "北區區公所,120.970561,24.816444,http://opendata-manage.hccg.gov.tw/img/24/youbike19.jpg,國華街69號(區公所前廣場),,\n",
      "經國民生路口,120.973992,24.813884,http://opendata-manage.hccg.gov.tw/img/24/youbike20.jpg,民生路309號(旁公園綠帶),,\n",
      "湳雅公園,120.967956,24.820368,http://opendata-manage.hccg.gov.tw/img/24/youbike21.jpg,武陵路157號(對面人行道),,\n",
      "天公壇,120.957256,24.799426,http://opendata-manage.hccg.gov.tw/img/24/youbike22.jpg,中山路與中山路452巷口(西雅公園),,\n",
      "光復關新路口,121.01833,24.784875,http://opendata-manage.hccg.gov.tw/img/24/youbike23.jpg,關新路21號(大樓前人行道),,\n",
      "金山街(集福宮),121.021936,24.777737,http://opendata-manage.hccg.gov.tw/img/24/youbike24.jpg,金山街63號(對面公園綠地),,\n",
      "香山國小,120.944523,24.796454,http://opendata-manage.hccg.gov.tw/img/24/youbike25.jpg,牛埔東路260號(校門右側人行道),,\n",
      "北新竹火車站(新竹高工),120.983512,24.809629,http://opendata-manage.hccg.gov.tw/img/24/youbike26.jpg,中華路二段2-1號前人行道,,\n",
      "新莊火車站,121.021833,24.788113,http://opendata-manage.hccg.gov.tw/img/24/youbike27.jpg,關東路310號(車站出口右側人行道),,\n",
      "千甲火車站,121.002064,24.807119,http://opendata-manage.hccg.gov.tw/img/24/youbike28.jpg,千甲路138-5號(民宅對面高架橋下),,\n",
      "三姓橋火車站,120.92856,24.786994,http://opendata-manage.hccg.gov.tw/img/24/youbike29.jpg,元培街32巷30號(車站出口前廣場),,\n",
      "香山火車站,120.913819,24.763156,http://opendata-manage.hccg.gov.tw/img/24/youbike30.jpg,中華路五段347巷2弄27號(火車站前廣場),,\n",
      "交通大學(大學路),121.00026,24.7894,http://opendata-manage.hccg.gov.tw/img/24/youbike31.jpg,大學路200號(對面人行道),,\n",
      "元培醫事科技大學,120.940465,24.778031,http://opendata-manage.hccg.gov.tw/img/24/youbike32.jpg,元培街306號(校門對面機車停車場),,\n",
      "樹林頭公園,120.959777,24.821613,http://opendata-manage.hccg.gov.tw/img/24/youbike33.jpg,東大路二段537號(對面汽車停車場),,\n",
      "清華大學(小吃部),120.99347,24.79288,http://opendata-manage.hccg.gov.tw/img/24/youbike34.jpg,光復路二段101號(小吃部左側廣場),,\n",
      "交通大學(逐風廣場),120.99964,24.7849,http://opendata-manage.hccg.gov.tw/img/24/youbike35.jpg,大學路1001號(女二宿前廣場),,\n",
      "赤土崎公園,120.9942,24.79974,http://opendata-manage.hccg.gov.tw/img/24/youbike36.jpg,光復路二段153號(對面人行道),,\n",
      "國賓大飯店(新光三越),120.978,24.80613,http://opendata-manage.hccg.gov.tw/img/24/youbike37.jpg,中華路二段188號(前人行道),,\n",
      "新莊公園,121.01736,24.78743,http://opendata-manage.hccg.gov.tw/img/24/youbike38.jpg,新莊街212號旁(公園人行道),,\n",
      "東大武陵路口(國軍新竹醫院),120.96398,24.81713,http://opendata-manage.hccg.gov.tw/img/24/youbike39.jpg,東大路二段261號(旁人行道),,\n",
      "新竹和平公園,120.95243,24.79912,http://opendata-manage.hccg.gov.tw/img/24/youbike40.jpg,經國路三段78巷18號(對面公園人行道),,\n",
      "青草湖(煙波大飯店),120.97008,24.77386,http://opendata-manage.hccg.gov.tw/img/24/youbike41.jpg,明湖路773號對面公園人行道,,\n",
      "十八尖山(新竹高商),120.987619,24.797087,http://opendata-manage.hccg.gov.tw/img/24/youbike42.jpg,博愛街5巷2號對面停車場,,\n",
      "虎林棒球場,120.944251,24.805122,http://opendata-manage.hccg.gov.tw/img/24/youbike43.jpg,延平路一段541號對面人行道,,\n",
      "新竹棒球場,120.960621,24.807606,http://opendata-manage.hccg.gov.tw/img/24/youbike44.jpg,民富街141號對面人行道,,\n",
      "新竹市文化局,120.96873,24.811967,http://opendata-manage.hccg.gov.tw/img/24/youbike45.jpg,東大路二段15巷1號前人行道,,\n",
      "交通大學(研三舍),120.996969,24.784193,http://opendata-manage.hccg.gov.tw/img/24/youbike46.jpg,交通大學綜合一館(南側出入口),,\n",
      "清華大學(台達館),120.991966,24.795358,http://opendata-manage.hccg.gov.tw/img/24/youbike47.jpg,清華大學台達館(南側),,\n",
      "大庄國小,120.927926,24.789427,http://opendata-manage.hccg.gov.tw/img/24/youbike56.jpg,大庄路48號,,\n",
      "竹科管理局,121.00607,24.78142,http://opendata-manage.hccg.gov.tw/img/24/youbike48.jpg,新安路2號前人行道,,\n",
      "科技生活館,121.0054,24.78004,http://opendata-manage.hccg.gov.tw/img/24/youbike49.jpg,工業東二路1號旁人行道,,\n",
      "靜心湖,121.01078,24.77874,http://opendata-manage.hccg.gov.tw/img/24/youbike50.jpg,竹村七路7號前人行道,,\n",
      "金山寺,121.01466,24.77739,http://opendata-manage.hccg.gov.tw/img/24/youbike51.jpg,湖濱二路201號旁(人行道),,\n",
      "矽導研發中心停車場,121.01881,24.77279,http://opendata-manage.hccg.gov.tw/img/24/youbike52.jpg,力行二路2號前人行道,,\n",
      "篤行會館,121.02517,24.77092,http://opendata-manage.hccg.gov.tw/img/24/youbike53.jpg,篤行路6號前人行道,,\n",
      "園二園三廣場,121.01019,24.77282,http://opendata-manage.hccg.gov.tw/img/24/youbike54.jpg,園區三路1號(對面人行道),,\n",
      "研發四路公園,120.99843,24.77884,http://opendata-manage.hccg.gov.tw/img/24/youbike55.jpg,園區二路15號(斜對面人行道),,\n",
      "交通大學-新安路,120.9942,24.78386,http://opendata-manage.hccg.gov.tw/img/24/youbike57.jpg,新安路/園區三路口(東南側),,\n",
      "研發二路停車場,121.00214,24.77778,http://opendata-manage.hccg.gov.tw/img/24/youbike58.jpg,研發二路/創新三路口(南側),,\n",
      "力行一路力行六路口,121.0155,24.77395,http://opendata-manage.hccg.gov.tw/img/24/youbike59.jpg,力行一路/力行六路口(北側),,\n",
      "聯園,121.01915,24.76807,http://opendata-manage.hccg.gov.tw/img/24/youbike60.jpg,力行三路/力行二路口(北側),,\n",
      "園區三路研新一路口,120.99512,24.77678,http://opendata-manage.hccg.gov.tw/img/24/youbike61.jpg,研新一路/園區三路口(西北側),,\n",
      "同業公會,121.00198,24.78228,http://opendata-manage.hccg.gov.tw/img/24/youbike62.jpg,展業一路/新安路(北側),,\n",
      "興業二路停車場,120.98996,24.77872,http://opendata-manage.hccg.gov.tw/img/24/youbike63.jpg,興業二路/研新三路口(西側),,\n",
      "\n"
     ]
    }
   ],
   "source": [
    "print(decoded_content)"
   ]
  },
  {
   "cell_type": "markdown",
   "metadata": {},
   "source": [
    "- 用csv套件解析它"
   ]
  },
  {
   "cell_type": "code",
   "execution_count": 10,
   "metadata": {},
   "outputs": [],
   "source": [
    "import csv"
   ]
  },
  {
   "cell_type": "code",
   "execution_count": 11,
   "metadata": {},
   "outputs": [],
   "source": [
    "cr = csv.reader(decoded_content.splitlines(), delimiter=',')\n",
    "data_list = list(cr)"
   ]
  },
  {
   "cell_type": "markdown",
   "metadata": {},
   "source": [
    "- 了解 list 的操作"
   ]
  },
  {
   "cell_type": "code",
   "execution_count": 12,
   "metadata": {},
   "outputs": [
    {
     "data": {
      "text/plain": [
       "['\\ufeff站點名稱', '經度', '緯度', '圖片URL', '站點位置', 'F6', 'F7']"
      ]
     },
     "execution_count": 12,
     "metadata": {},
     "output_type": "execute_result"
    }
   ],
   "source": [
    "data_list[0]"
   ]
  },
  {
   "cell_type": "code",
   "execution_count": 13,
   "metadata": {},
   "outputs": [
    {
     "data": {
      "text/plain": [
       "['新竹火車站(前站)',\n",
       " '120.971459',\n",
       " '24.801815',\n",
       " 'http://opendata-manage.hccg.gov.tw/img/24/youbike01.jpg',\n",
       " '中華路二段445號(火車站前廣場)',\n",
       " '',\n",
       " '']"
      ]
     },
     "execution_count": 13,
     "metadata": {},
     "output_type": "execute_result"
    }
   ],
   "source": [
    "data_list[1]"
   ]
  },
  {
   "cell_type": "code",
   "execution_count": 14,
   "metadata": {},
   "outputs": [
    {
     "data": {
      "text/plain": [
       "[['新竹火車站(前站)',\n",
       "  '120.971459',\n",
       "  '24.801815',\n",
       "  'http://opendata-manage.hccg.gov.tw/img/24/youbike01.jpg',\n",
       "  '中華路二段445號(火車站前廣場)',\n",
       "  '',\n",
       "  ''],\n",
       " ['東門圓環',\n",
       "  '120.970556',\n",
       "  '24.803866',\n",
       "  'http://opendata-manage.hccg.gov.tw/img/24/youbike02.jpg',\n",
       "  '勝利路2號(對面圓環人行道)',\n",
       "  '',\n",
       "  '']]"
      ]
     },
     "execution_count": 14,
     "metadata": {},
     "output_type": "execute_result"
    }
   ],
   "source": [
    "data_list[1:3]"
   ]
  },
  {
   "cell_type": "markdown",
   "metadata": {},
   "source": [
    "- 開炲使用地圖套件標記"
   ]
  },
  {
   "cell_type": "code",
   "execution_count": 15,
   "metadata": {},
   "outputs": [],
   "source": [
    "# 可以使用 `pip install folium` 安裝套件\n",
    "# 使用 `pip install geocoder`"
   ]
  },
  {
   "cell_type": "code",
   "execution_count": 16,
   "metadata": {},
   "outputs": [],
   "source": [
    "# 在colab用底下的安裝指令\n",
    "\n",
    "#!pip install geocoder"
   ]
  },
  {
   "cell_type": "code",
   "execution_count": 17,
   "metadata": {},
   "outputs": [],
   "source": [
    "import folium\n",
    "import geocoder"
   ]
  },
  {
   "cell_type": "code",
   "execution_count": 18,
   "metadata": {},
   "outputs": [],
   "source": [
    "# 使用 geocoder 取得特定住址的 GPS 座標\n",
    "location = geocoder.osm('新竹市').latlng"
   ]
  },
  {
   "cell_type": "code",
   "execution_count": 19,
   "metadata": {},
   "outputs": [
    {
     "data": {
      "text/plain": [
       "[24.8066333, 120.9686833]"
      ]
     },
     "execution_count": 19,
     "metadata": {},
     "output_type": "execute_result"
    }
   ],
   "source": [
    "location"
   ]
  },
  {
   "cell_type": "code",
   "execution_count": 20,
   "metadata": {},
   "outputs": [],
   "source": [
    "m = folium.Map(location=location, zoom_start=15)"
   ]
  },
  {
   "cell_type": "code",
   "execution_count": 21,
   "metadata": {},
   "outputs": [],
   "source": [
    "for item in data_list[1:]:\n",
    "    try:\n",
    "        # item[2]=緯度, item[1]=經度, item[0]=名稱\n",
    "        folium.Marker([float(item[2]), float(item[1])], popup=item[0]).add_to(m)\n",
    "    except Exception as e:\n",
    "        print(e.args)    "
   ]
  },
  {
   "cell_type": "code",
   "execution_count": 22,
   "metadata": {},
   "outputs": [
    {
     "data": {
      "text/html": [
       "<div style=\"width:100%;\"><div style=\"position:relative;width:100%;height:0;padding-bottom:60%;\"><span style=\"color:#565656\">Make this Notebook Trusted to load map: File -> Trust Notebook</span><iframe src=\"about:blank\" style=\"position:absolute;width:100%;height:100%;left:0;top:0;border:none !important;\" data-html=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 onload=\"this.contentDocument.open();this.contentDocument.write(atob(this.getAttribute('data-html')));this.contentDocument.close();\" allowfullscreen webkitallowfullscreen mozallowfullscreen></iframe></div></div>"
      ],
      "text/plain": [
       "<folium.folium.Map at 0x22ca58cb320>"
      ]
     },
     "execution_count": 22,
     "metadata": {},
     "output_type": "execute_result"
    }
   ],
   "source": [
    "m"
   ]
  },
  {
   "cell_type": "markdown",
   "metadata": {},
   "source": [
    "- 下載你的成果"
   ]
  },
  {
   "cell_type": "code",
   "execution_count": null,
   "metadata": {},
   "outputs": [],
   "source": [
    "m.save('W01-3.html')"
   ]
  },
  {
   "cell_type": "code",
   "execution_count": null,
   "metadata": {},
   "outputs": [],
   "source": [
    "\n",
    "from google.colab import files\n",
    "files.download('W01-3.html')\n"
   ]
  }
 ],
 "metadata": {
  "kernelspec": {
   "display_name": "Python 3",
   "language": "python",
   "name": "python3"
  },
  "language_info": {
   "codemirror_mode": {
    "name": "ipython",
    "version": 3
   },
   "file_extension": ".py",
   "mimetype": "text/x-python",
   "name": "python",
   "nbconvert_exporter": "python",
   "pygments_lexer": "ipython3",
   "version": "3.7.0"
  }
 },
 "nbformat": 4,
 "nbformat_minor": 2
}
